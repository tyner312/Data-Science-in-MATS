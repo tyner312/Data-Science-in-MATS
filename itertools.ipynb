{
 "cells": [
  {
   "cell_type": "code",
   "execution_count": 4,
   "id": "3306d573",
   "metadata": {},
   "outputs": [
    {
     "data": {
      "text/plain": [
       "(['Fe', 'Cu', 'Al'], ['W', 'Ag', 'Fe'], ['Ca', 'Cu', 'Mg'])"
      ]
     },
     "execution_count": 4,
     "metadata": {},
     "output_type": "execute_result"
    }
   ],
   "source": [
    "import itertools\n",
    "data = (['Fe', 'Cu', 'Al'], ['W', 'Ag', 'Fe'], ['Ca', 'Cu', 'Mg'])\n",
    "data"
   ]
  },
  {
   "cell_type": "code",
   "execution_count": 7,
   "id": "081798bc",
   "metadata": {},
   "outputs": [
    {
     "data": {
      "text/plain": [
       "{'Ag', 'Al', 'Ca', 'Cu', 'Fe', 'Mg', 'W'}"
      ]
     },
     "execution_count": 7,
     "metadata": {},
     "output_type": "execute_result"
    }
   ],
   "source": [
    "set(itertools.chain(*data))"
   ]
  },
  {
   "cell_type": "code",
   "execution_count": null,
   "id": "ac510497",
   "metadata": {},
   "outputs": [],
   "source": []
  }
 ],
 "metadata": {
  "kernelspec": {
   "display_name": "Python 3 (ipykernel)",
   "language": "python",
   "name": "python3"
  },
  "language_info": {
   "codemirror_mode": {
    "name": "ipython",
    "version": 3
   },
   "file_extension": ".py",
   "mimetype": "text/x-python",
   "name": "python",
   "nbconvert_exporter": "python",
   "pygments_lexer": "ipython3",
   "version": "3.9.7"
  }
 },
 "nbformat": 4,
 "nbformat_minor": 5
}
