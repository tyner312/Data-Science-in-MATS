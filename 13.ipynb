{
 "cells": [
  {
   "cell_type": "code",
   "execution_count": 1,
   "id": "a4f6de96",
   "metadata": {},
   "outputs": [],
   "source": [
    "import itertools\n",
    "from collections import Counter\n",
    "import pandas as pd\n",
    "import numpy as np\n",
    "from pymatgen.core import Element, Composition\n",
    "import matplotlib.pyplot as plt\n",
    "import matplotlib as mpl\n",
    "from sklearn.linear_model import LinearRegression, Ridge, Lasso\n",
    "from sklearn.metrics import mean_absolute_error, mean_squared_error\n",
    "from sklearn.model_selection import train_test_split\n",
    "from sklearn.discriminant_analysis import LinearDiscriminantAnalysis, QuadraticDiscriminantAnalysis\n",
    "from sklearn.linear_model import LogisticRegression\n",
    "\n",
    "rcparams = {'legend.fontsize': 20,\n",
    "            'figure.figsize': (12, 8),\n",
    "            'axes.labelsize': 24,\n",
    "            'axes.titlesize': 28,\n",
    "            'xtick.labelsize':20,\n",
    "            'ytick.labelsize': 20}\n",
    "mpl.rcParams.update(rcparams)\n",
    "\n",
    "%matplotlib inline\n",
    "%config InlineBackend.figure_format ='retina'"
   ]
  },
  {
   "cell_type": "code",
   "execution_count": 2,
   "id": "c1413be4",
   "metadata": {},
   "outputs": [],
   "source": [
    "orig_data = pd.read_csv(\"data.csv\", na_filter=False)"
   ]
  },
  {
   "cell_type": "code",
   "execution_count": 3,
   "id": "a09590f8",
   "metadata": {},
   "outputs": [
    {
     "name": "stdout",
     "output_type": "stream",
     "text": [
      "There are 89 elements.\n"
     ]
    }
   ],
   "source": [
    "elements = []\n",
    "for i in orig_data['formula']:\n",
    "    elements.append(Composition(i).elements)\n",
    "\n",
    "orig_data[\"elements\"] = elements\n",
    "\n",
    "unique = set(itertools.chain(*elements))\n",
    "\n",
    "print(\"There are %d elements.\" % len(unique))"
   ]
  },
  {
   "cell_type": "code",
   "execution_count": 4,
   "id": "2fd648de",
   "metadata": {},
   "outputs": [
    {
     "name": "stdout",
     "output_type": "stream",
     "text": [
      "Maximum number of elements in a structure is 9\n"
     ]
    }
   ],
   "source": [
    "nelements = [len(l) for l in elements]\n",
    "max_els = max(nelements)\n",
    "print(\"Maximum number of elements in a structure is %d\" % max_els)"
   ]
  },
  {
   "cell_type": "code",
   "execution_count": 5,
   "id": "e06ab2f3",
   "metadata": {},
   "outputs": [
    {
     "data": {
      "image/png": "[encoded data removed]",
      "text/plain": [
       "<Figure size 864x576 with 1 Axes>"
      ]
     },
     "metadata": {
      "image/png": {
       "height": 476,
       "width": 725
      },
      "needs_background": "light"
     },
     "output_type": "display_data"
    }
   ],
   "source": [
    "import collections\n",
    "el_count = collections.Counter(nelements)\n",
    "fig, ax = plt.subplots(figsize=(12, 8))\n",
    "plt.bar(range(1, max_els+1), [el_count[i] for i in range(1, max_els+1)])\n",
    "plt.yscale('log')"
   ]
  },
  {
   "cell_type": "code",
   "execution_count": 6,
   "id": "8ccd5e5b",
   "metadata": {},
   "outputs": [
    {
     "name": "stdout",
     "output_type": "stream",
     "text": [
      "Top 10 most common elements are \n",
      "[(Element O, 60428), (Element Li, 18580), (Element P, 13321), (Element Mn, 11233), (Element S, 10516), (Element Fe, 10109), (Element N, 9723), (Element F, 9606), (Element Si, 8940), (Element Mg, 8711)]\n",
      "Top 10 least common elements are \n",
      "[(Element Ne, 1), (Element Ar, 2), (Element He, 8), (Element Kr, 15), (Element Xe, 147), (Element Pa, 253), (Element Ac, 297), (Element Np, 340), (Element Pu, 388), (Element Pm, 515)]\n"
     ]
    }
   ],
   "source": [
    "el_count = Counter(itertools.chain(*elements))\n",
    "counts = sorted(el_count.items(), key=lambda k: k[1])\n",
    "print('Top 10 most common elements are ')\n",
    "print(counts[-10:][::-1])\n",
    "print('Top 10 least common elements are ')\n",
    "print(counts[:10])"
   ]
  },
  {
   "cell_type": "code",
   "execution_count": 7,
   "id": "9404afdb",
   "metadata": {},
   "outputs": [
    {
     "name": "stdout",
     "output_type": "stream",
     "text": [
      "The remaining number of materials is 124342\n"
     ]
    }
   ],
   "source": [
    "elements_temp = [Element.from_Z(i) for i in range(1, 95)]\n",
    "noble_gases = [i for i in elements_temp if i.is_noble_gas]\n",
    "\n",
    "def is_contain_noble_gas(elements):\n",
    "    return any([i in noble_gases for i in elements])\n",
    "\n",
    "not_contain_noble_gas = [not is_contain_noble_gas(i) for i in orig_data['elements']]\n",
    "\n",
    "data = orig_data.copy()\n",
    "data = data[not_contain_noble_gas]\n",
    "print(\"The remaining number of materials is %d\" % data.shape[0])"
   ]
  },
  {
   "cell_type": "code",
   "execution_count": 8,
   "id": "5b41b4ab",
   "metadata": {},
   "outputs": [],
   "source": [
    "element_data = pd.read_csv('element_properties.csv', index_col=0)"
   ]
  },
  {
   "cell_type": "code",
   "execution_count": 9,
   "id": "402ff16c",
   "metadata": {},
   "outputs": [],
   "source": [
    "mean_columns = element_data.mean(skipna=True)"
   ]
  },
  {
   "cell_type": "code",
   "execution_count": 10,
   "id": "e85bcb09",
   "metadata": {},
   "outputs": [],
   "source": [
    "element_data = element_data.fillna(mean_columns)"
   ]
  },
  {
   "cell_type": "code",
   "execution_count": 11,
   "id": "9c843080",
   "metadata": {},
   "outputs": [],
   "source": [
    "data['composition'] = [Composition(i).to_data_dict['unit_cell_composition'] for i in data['formula']]"
   ]
  },
  {
   "cell_type": "code",
   "execution_count": 12,
   "id": "32b3ab41",
   "metadata": {},
   "outputs": [
    {
     "data": {
      "text/plain": [
       "defaultdict(float, {'Cr': 1.0, 'Ni': 3.0})"
      ]
     },
     "execution_count": 12,
     "metadata": {},
     "output_type": "execute_result"
    }
   ],
   "source": [
    "data['composition'][0]"
   ]
  },
  {
   "cell_type": "code",
   "execution_count": 13,
   "id": "86091882",
   "metadata": {},
   "outputs": [],
   "source": [
    "c = {'Cr': 1.0, 'Ni': 3.0}"
   ]
  },
  {
   "cell_type": "code",
   "execution_count": 14,
   "id": "1cfbb83a",
   "metadata": {},
   "outputs": [
    {
     "data": {
      "text/plain": [
       "True"
      ]
     },
     "execution_count": 14,
     "metadata": {},
     "output_type": "execute_result"
    }
   ],
   "source": [
    "isinstance(c, dict)"
   ]
  },
  {
   "cell_type": "code",
   "execution_count": 15,
   "id": "4812ac83",
   "metadata": {},
   "outputs": [],
   "source": [
    "unit_cell_composition = c"
   ]
  },
  {
   "cell_type": "code",
   "execution_count": 16,
   "id": "bbef9af1",
   "metadata": {},
   "outputs": [
    {
     "data": {
      "text/plain": [
       "dict_items([('Cr', 1.0), ('Ni', 3.0)])"
      ]
     },
     "execution_count": 16,
     "metadata": {},
     "output_type": "execute_result"
    }
   ],
   "source": [
    "prop = 'AtomicRadius'\n",
    "res = 0\n",
    "total = 0\n",
    "unit_cell_composition.items()"
   ]
  },
  {
   "cell_type": "code",
   "execution_count": 17,
   "id": "5301e213",
   "metadata": {},
   "outputs": [
    {
     "data": {
      "text/plain": [
       "1.3625000000000003"
      ]
     },
     "execution_count": 17,
     "metadata": {},
     "output_type": "execute_result"
    }
   ],
   "source": [
    "(element_data.loc['Cr', prop] * 1 + element_data.loc['Ni', prop] * 3) / (1+3)"
   ]
  },
  {
   "cell_type": "code",
   "execution_count": 18,
   "id": "55bfb3d7",
   "metadata": {},
   "outputs": [
    {
     "ename": "NameError",
     "evalue": "name 'compute_average_from_composition' is not defined",
     "output_type": "error",
     "traceback": [
      "\u001b[1;31m---------------------------------------------------------------------------\u001b[0m",
      "\u001b[1;31mNameError\u001b[0m                                 Traceback (most recent call last)",
      "\u001b[1;32m~\\AppData\\Local\\Temp/ipykernel_22448/1597999524.py\u001b[0m in \u001b[0;36m<module>\u001b[1;34m\u001b[0m\n\u001b[0;32m      8\u001b[0m     \u001b[1;32mreturn\u001b[0m \u001b[0mnumerator\u001b[0m \u001b[1;33m/\u001b[0m \u001b[0mdenominator\u001b[0m\u001b[1;33m\u001b[0m\u001b[1;33m\u001b[0m\u001b[0m\n\u001b[0;32m      9\u001b[0m \u001b[1;33m\u001b[0m\u001b[0m\n\u001b[1;32m---> 10\u001b[1;33m \u001b[0matomic_radius\u001b[0m \u001b[1;33m=\u001b[0m \u001b[1;33m[\u001b[0m\u001b[0mcompute_average_from_composition\u001b[0m\u001b[1;33m(\u001b[0m\u001b[0mi\u001b[0m\u001b[1;33m,\u001b[0m \u001b[1;34m'AtomicRadius'\u001b[0m\u001b[1;33m)\u001b[0m \u001b[1;32mfor\u001b[0m \u001b[0mi\u001b[0m \u001b[1;32min\u001b[0m \u001b[0mdata\u001b[0m\u001b[1;33m[\u001b[0m\u001b[1;34m'composition'\u001b[0m\u001b[1;33m]\u001b[0m\u001b[1;33m]\u001b[0m\u001b[1;33m\u001b[0m\u001b[1;33m\u001b[0m\u001b[0m\n\u001b[0m\u001b[0;32m     11\u001b[0m \u001b[1;33m\u001b[0m\u001b[0m\n\u001b[0;32m     12\u001b[0m \u001b[0matomic_radius\u001b[0m\u001b[1;33m\u001b[0m\u001b[1;33m\u001b[0m\u001b[0m\n",
      "\u001b[1;32m~\\AppData\\Local\\Temp/ipykernel_22448/1597999524.py\u001b[0m in \u001b[0;36m<listcomp>\u001b[1;34m(.0)\u001b[0m\n\u001b[0;32m      8\u001b[0m     \u001b[1;32mreturn\u001b[0m \u001b[0mnumerator\u001b[0m \u001b[1;33m/\u001b[0m \u001b[0mdenominator\u001b[0m\u001b[1;33m\u001b[0m\u001b[1;33m\u001b[0m\u001b[0m\n\u001b[0;32m      9\u001b[0m \u001b[1;33m\u001b[0m\u001b[0m\n\u001b[1;32m---> 10\u001b[1;33m \u001b[0matomic_radius\u001b[0m \u001b[1;33m=\u001b[0m \u001b[1;33m[\u001b[0m\u001b[0mcompute_average_from_composition\u001b[0m\u001b[1;33m(\u001b[0m\u001b[0mi\u001b[0m\u001b[1;33m,\u001b[0m \u001b[1;34m'AtomicRadius'\u001b[0m\u001b[1;33m)\u001b[0m \u001b[1;32mfor\u001b[0m \u001b[0mi\u001b[0m \u001b[1;32min\u001b[0m \u001b[0mdata\u001b[0m\u001b[1;33m[\u001b[0m\u001b[1;34m'composition'\u001b[0m\u001b[1;33m]\u001b[0m\u001b[1;33m]\u001b[0m\u001b[1;33m\u001b[0m\u001b[1;33m\u001b[0m\u001b[0m\n\u001b[0m\u001b[0;32m     11\u001b[0m \u001b[1;33m\u001b[0m\u001b[0m\n\u001b[0;32m     12\u001b[0m \u001b[0matomic_radius\u001b[0m\u001b[1;33m\u001b[0m\u001b[1;33m\u001b[0m\u001b[0m\n",
      "\u001b[1;31mNameError\u001b[0m: name 'compute_average_from_composition' is not defined"
     ]
    }
   ],
   "source": [
    "def average_radius(c, prop):\n",
    "    unit_cell_composition = c\n",
    "    numerator = 0\n",
    "    denominator = 0\n",
    "    for elem, fraction in unit_cell_composition.items():\n",
    "        numerator += element_data.loc[elem, prop] * fraction\n",
    "        denominator += fraction\n",
    "    return numerator / denominator\n",
    "\n",
    "atomic_radius = [compute_average_from_composition(i, 'AtomicRadius') for i in data['composition']]\n",
    "\n",
    "atomic_radius"
   ]
  },
  {
   "cell_type": "code",
   "execution_count": null,
   "id": "69a36c08",
   "metadata": {},
   "outputs": [],
   "source": [
    "def composition_to_dict(c):\n",
    "    if isinstance(c, dict):\n",
    "        unit_cell_composition = c\n",
    "    else:\n",
    "        if isinstance(c, str):\n",
    "            c = Composition(c)\n",
    "        unit_cell_composition = c.to_data_dict['unit_cell_composition']\n",
    "    return unit_cell_composition\n",
    "\n",
    "def compute_average_from_composition(c, prop):\n",
    "    unit_cell_composition = composition_to_dict(c)\n",
    "    res = 0\n",
    "    total = 0\n",
    "    for i, j in unit_cell_composition.items():\n",
    "        res += element_data.loc[i, prop] * j\n",
    "        total += j\n",
    "    return res / total\n",
    "\n",
    "def get_maxmin_properties(c, prop, mode='max'):\n",
    "    if mode == 'max':\n",
    "        func = np.max\n",
    "    elif mode == \"min\":\n",
    "        func = np.min\n",
    "        \n",
    "    unit_cell_composition = composition_to_dict(c)\n",
    "    res = func([element_data.loc[i, prop] for i in unit_cell_composition])\n",
    "    return res"
   ]
  },
  {
   "cell_type": "code",
   "execution_count": null,
   "id": "49510669",
   "metadata": {},
   "outputs": [],
   "source": [
    "atomic_radius = [compute_average_from_composition(i, 'AtomicRadius') for i in data['composition']]\n",
    "atomic_radius"
   ]
  },
  {
   "cell_type": "code",
   "execution_count": null,
   "id": "b3ab2fd3",
   "metadata": {},
   "outputs": [],
   "source": [
    "properties = element_data.columns\n",
    "average_properties = []\n",
    "for prop in properties:\n",
    "    average_properties.append([compute_average_from_composition(i, prop) for i in data['composition']])"
   ]
  },
  {
   "cell_type": "code",
   "execution_count": null,
   "id": "eafaaff3",
   "metadata": {},
   "outputs": [],
   "source": [
    "properties"
   ]
  },
  {
   "cell_type": "code",
   "execution_count": null,
   "id": "61760970",
   "metadata": {},
   "outputs": [],
   "source": [
    "average_properties = np.array(average_properties).T\n",
    "average_properties"
   ]
  },
  {
   "cell_type": "code",
   "execution_count": null,
   "id": "7e9016fe",
   "metadata": {},
   "outputs": [],
   "source": [
    "max_properties = []\n",
    "min_properties = []\n",
    "for prop in properties:\n",
    "    max_properties.append([get_maxmin_properties(i, prop, mode='max') for i in data['composition']])\n",
    "    min_properties.append([get_maxmin_properties(i, prop, mode='min') for i in data['composition']])\n",
    "    \n",
    "max_properties = np.array(max_properties).T\n",
    "min_properties = np.array(min_properties).T"
   ]
  },
  {
   "cell_type": "code",
   "execution_count": null,
   "id": "2665cc85",
   "metadata": {},
   "outputs": [],
   "source": [
    "design_matrix = np.concatenate([average_properties, max_properties, min_properties], axis=1)"
   ]
  },
  {
   "cell_type": "code",
   "execution_count": null,
   "id": "8fc67e3b",
   "metadata": {},
   "outputs": [],
   "source": [
    "np.max([element_data.loc[i, prop]])"
   ]
  },
  {
   "cell_type": "code",
   "execution_count": null,
   "id": "15e431ee",
   "metadata": {
    "scrolled": true
   },
   "outputs": [],
   "source": []
  },
  {
   "cell_type": "code",
   "execution_count": null,
   "id": "9bf7974e",
   "metadata": {},
   "outputs": [],
   "source": []
  },
  {
   "cell_type": "code",
   "execution_count": null,
   "id": "94f73921",
   "metadata": {},
   "outputs": [],
   "source": []
  },
  {
   "cell_type": "code",
   "execution_count": null,
   "id": "adb548e3",
   "metadata": {},
   "outputs": [],
   "source": []
  },
  {
   "cell_type": "code",
   "execution_count": null,
   "id": "6a484f01",
   "metadata": {},
   "outputs": [],
   "source": []
  }
 ],
 "metadata": {
  "kernelspec": {
   "display_name": "Python 3 (ipykernel)",
   "language": "python",
   "name": "python3"
  },
  "language_info": {
   "codemirror_mode": {
    "name": "ipython",
    "version": 3
   },
   "file_extension": ".py",
   "mimetype": "text/x-python",
   "name": "python",
   "nbconvert_exporter": "python",
   "pygments_lexer": "ipython3",
   "version": "3.9.7"
  }
 },
 "nbformat": 4,
 "nbformat_minor": 5
}
