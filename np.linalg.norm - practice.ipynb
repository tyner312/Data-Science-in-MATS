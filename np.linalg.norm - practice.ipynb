{
 "cells": [
  {
   "cell_type": "code",
   "execution_count": 12,
   "id": "80564368",
   "metadata": {},
   "outputs": [
    {
     "name": "stdout",
     "output_type": "stream",
     "text": [
      "[[ 3 -4]\n",
      " [-6  5]]\n"
     ]
    }
   ],
   "source": [
    "import numpy as np\n",
    "\n",
    "A = np.array([[3, -4], [-6, 5]])\n",
    "print(A)"
   ]
  },
  {
   "cell_type": "code",
   "execution_count": 13,
   "id": "c75066a5",
   "metadata": {},
   "outputs": [
    {
     "name": "stdout",
     "output_type": "stream",
     "text": [
      "9.273618495495704\n"
     ]
    }
   ],
   "source": [
    "ret_all = np.linalg.norm(A, ord = None)\n",
    "print(ret_all)\n",
    "# return 2範數(平方&根號)的值"
   ]
  },
  {
   "cell_type": "code",
   "execution_count": 14,
   "id": "057ec479",
   "metadata": {},
   "outputs": [
    {
     "name": "stdout",
     "output_type": "stream",
     "text": [
      "[5.         7.81024968]\n"
     ]
    }
   ],
   "source": [
    "ret_row = np.linalg.norm(A, ord = None, axis = 1)\n",
    "print(ret_row)\n",
    "# return 逐行2範數(平方&根號)的值"
   ]
  },
  {
   "cell_type": "code",
   "execution_count": 15,
   "id": "8811e0cc",
   "metadata": {},
   "outputs": [
    {
     "name": "stdout",
     "output_type": "stream",
     "text": [
      "[6.70820393 6.40312424]\n"
     ]
    }
   ],
   "source": [
    "ret_column = np.linalg.norm(A, ord = None, axis = 0)\n",
    "print(ret_column)\n",
    "# return 逐列2範數(平方&根號)的值"
   ]
  },
  {
   "cell_type": "code",
   "execution_count": 16,
   "id": "a7ff4d28",
   "metadata": {},
   "outputs": [
    {
     "name": "stdout",
     "output_type": "stream",
     "text": [
      "11.0\n"
     ]
    }
   ],
   "source": [
    "ret_inf_max = np.linalg.norm(A, ord = np.Inf)\n",
    "print(ret_inf_max)\n",
    "# return 無窮範數(元素是逐行中元素絕對值的合最大)"
   ]
  },
  {
   "cell_type": "code",
   "execution_count": 17,
   "id": "88b0c06b",
   "metadata": {},
   "outputs": [
    {
     "name": "stdout",
     "output_type": "stream",
     "text": [
      "[4. 6.]\n"
     ]
    }
   ],
   "source": [
    "ret_inf_max_row = np.linalg.norm(A, ord = np.Inf, axis = 1)\n",
    "print(ret_inf_max_row)\n",
    "# return 無窮範數每行元素的絕對值的最大值"
   ]
  },
  {
   "cell_type": "code",
   "execution_count": 18,
   "id": "da1558ad",
   "metadata": {},
   "outputs": [
    {
     "name": "stdout",
     "output_type": "stream",
     "text": [
      "[6. 5.]\n"
     ]
    }
   ],
   "source": [
    "ret_inf_max_column = np.linalg.norm(A, ord = np.Inf, axis = 0)\n",
    "print(ret_inf_max_column)\n",
    "# return 無窮範數每列元素的絕對值的最大值"
   ]
  },
  {
   "cell_type": "code",
   "execution_count": 20,
   "id": "e495247c",
   "metadata": {},
   "outputs": [
    {
     "name": "stdout",
     "output_type": "stream",
     "text": [
      "7.0\n"
     ]
    }
   ],
   "source": [
    "ret_inf_min = np.linalg.norm(A, ord = -np.Inf)\n",
    "print(ret_inf_min)\n",
    "# return 無窮範數(元素是逐行中元素絕對值最小的值)"
   ]
  },
  {
   "cell_type": "code",
   "execution_count": 21,
   "id": "3de2f6f8",
   "metadata": {},
   "outputs": [
    {
     "name": "stdout",
     "output_type": "stream",
     "text": [
      "[[100  -4]\n",
      " [ -6   5]]\n"
     ]
    }
   ],
   "source": [
    "B = np.array([[100, -4], [-6, 5]])\n",
    "print(B)"
   ]
  },
  {
   "cell_type": "code",
   "execution_count": 23,
   "id": "df74aaaa",
   "metadata": {},
   "outputs": [
    {
     "name": "stdout",
     "output_type": "stream",
     "text": [
      "106.0\n"
     ]
    }
   ],
   "source": [
    "ret_one = np.linalg.norm(B, ord = 1)\n",
    "print(ret_one)\n",
    "# return 列的元素絕對值和的最大值"
   ]
  },
  {
   "cell_type": "code",
   "execution_count": 25,
   "id": "ff55b3c3",
   "metadata": {},
   "outputs": [
    {
     "name": "stdout",
     "output_type": "stream",
     "text": [
      "[104.  11.]\n"
     ]
    }
   ],
   "source": [
    "ret_one_row = np.linalg.norm(B, ord = 1, axis = 1)\n",
    "print(ret_one_row)\n",
    "# return 逐行求行的元素絕對值和"
   ]
  },
  {
   "cell_type": "code",
   "execution_count": 26,
   "id": "e48cd04a",
   "metadata": {},
   "outputs": [
    {
     "name": "stdout",
     "output_type": "stream",
     "text": [
      "[106.   9.]\n"
     ]
    }
   ],
   "source": [
    "ret_one_column = np.linalg.norm(B, ord = 1, axis = 0)\n",
    "print(ret_one_column)\n",
    "# return 逐列求列的元素絕對值和"
   ]
  },
  {
   "cell_type": "code",
   "execution_count": null,
   "id": "873e7b13",
   "metadata": {},
   "outputs": [],
   "source": []
  }
 ],
 "metadata": {
  "kernelspec": {
   "display_name": "Python 3 (ipykernel)",
   "language": "python",
   "name": "python3"
  },
  "language_info": {
   "codemirror_mode": {
    "name": "ipython",
    "version": 3
   },
   "file_extension": ".py",
   "mimetype": "text/x-python",
   "name": "python",
   "nbconvert_exporter": "python",
   "pygments_lexer": "ipython3",
   "version": "3.9.7"
  }
 },
 "nbformat": 4,
 "nbformat_minor": 5
}
