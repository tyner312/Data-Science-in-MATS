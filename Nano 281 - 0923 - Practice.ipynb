{
 "cells": [
  {
   "cell_type": "code",
   "execution_count": 1,
   "id": "394e2e1b",
   "metadata": {},
   "outputs": [
    {
     "name": "stdout",
     "output_type": "stream",
     "text": [
      "Hello world\n"
     ]
    }
   ],
   "source": [
    "print(\"Hello world\")"
   ]
  },
  {
   "cell_type": "code",
   "execution_count": 1,
   "id": "0edcc732",
   "metadata": {},
   "outputs": [],
   "source": [
    "x = 1 # integer\n",
    "y = 2.0 # float\n",
    "my_string = \"Hello world\" # string\n",
    "my_list = [1, 2, 3, \"a\"] # list\n",
    "my_dict = {\"a\":1, \"b\":2, \"c\":3} # dict"
   ]
  },
  {
   "cell_type": "code",
   "execution_count": 4,
   "id": "7b4ab1ad",
   "metadata": {},
   "outputs": [],
   "source": [
    "import math\n",
    "z = math.sin(3.14159) # Gives ~0"
   ]
  },
  {
   "cell_type": "code",
   "execution_count": 5,
   "id": "ee115a6a",
   "metadata": {},
   "outputs": [
    {
     "data": {
      "text/plain": [
       "2.65358979335273e-06"
      ]
     },
     "execution_count": 5,
     "metadata": {},
     "output_type": "execute_result"
    }
   ],
   "source": [
    "z"
   ]
  },
  {
   "cell_type": "code",
   "execution_count": 7,
   "id": "0a8d4412",
   "metadata": {},
   "outputs": [
    {
     "data": {
      "text/plain": [
       "0.8657598394923444"
      ]
     },
     "execution_count": 7,
     "metadata": {},
     "output_type": "execute_result"
    }
   ],
   "source": [
    "math.sin(60*3.14/180) #practice"
   ]
  },
  {
   "cell_type": "code",
   "execution_count": 8,
   "id": "56a243a3",
   "metadata": {},
   "outputs": [
    {
     "data": {
      "text/plain": [
       "0.4997701026431024"
      ]
     },
     "execution_count": 8,
     "metadata": {},
     "output_type": "execute_result"
    }
   ],
   "source": [
    "math.sin(30*3.14/180)"
   ]
  },
  {
   "cell_type": "code",
   "execution_count": 9,
   "id": "a3e26019",
   "metadata": {},
   "outputs": [
    {
     "data": {
      "text/plain": [
       "0.5004596890082058"
      ]
     },
     "execution_count": 9,
     "metadata": {},
     "output_type": "execute_result"
    }
   ],
   "source": [
    "math.cos(60*3.14/180)"
   ]
  },
  {
   "cell_type": "code",
   "execution_count": 3,
   "id": "54c7617a",
   "metadata": {},
   "outputs": [
    {
     "name": "stdout",
     "output_type": "stream",
     "text": [
      "2.0\n"
     ]
    }
   ],
   "source": [
    "w = x * y\n",
    "print(w)"
   ]
  },
  {
   "cell_type": "code",
   "execution_count": 4,
   "id": "455e8109",
   "metadata": {},
   "outputs": [
    {
     "name": "stdout",
     "output_type": "stream",
     "text": [
      "a\n"
     ]
    }
   ],
   "source": [
    "# Index\n",
    "print(my_list[3])"
   ]
  },
  {
   "cell_type": "code",
   "execution_count": 6,
   "id": "9d284311",
   "metadata": {},
   "outputs": [
    {
     "name": "stdout",
     "output_type": "stream",
     "text": [
      "1\n"
     ]
    }
   ],
   "source": [
    "# Get the index of the element\n",
    "print(my_list.index(2))"
   ]
  },
  {
   "cell_type": "code",
   "execution_count": 9,
   "id": "ca8b2498",
   "metadata": {},
   "outputs": [
    {
     "name": "stdout",
     "output_type": "stream",
     "text": [
      "3\n"
     ]
    }
   ],
   "source": [
    "print(my_list.index(\"a\"))"
   ]
  },
  {
   "cell_type": "code",
   "execution_count": 10,
   "id": "c8f961d9",
   "metadata": {},
   "outputs": [
    {
     "name": "stdout",
     "output_type": "stream",
     "text": [
      "[1, 2, 3, 'a', 1, 2, 3, 'a']\n"
     ]
    }
   ],
   "source": [
    "# List can be combined\n",
    "print(my_list+my_list)"
   ]
  },
  {
   "cell_type": "code",
   "execution_count": 11,
   "id": "825f4803",
   "metadata": {},
   "outputs": [
    {
     "name": "stdout",
     "output_type": "stream",
     "text": [
      "3\n"
     ]
    }
   ],
   "source": [
    "# Get the match value in dictionary\n",
    "print(my_dict[\"c\"])"
   ]
  },
  {
   "cell_type": "code",
   "execution_count": 12,
   "id": "0c2df0eb",
   "metadata": {},
   "outputs": [
    {
     "name": "stdout",
     "output_type": "stream",
     "text": [
      "2\n"
     ]
    }
   ],
   "source": [
    "print(my_dict[\"b\"])"
   ]
  },
  {
   "cell_type": "code",
   "execution_count": null,
   "id": "c4c68837",
   "metadata": {},
   "outputs": [],
   "source": []
  },
  {
   "cell_type": "code",
   "execution_count": null,
   "id": "b64ab340",
   "metadata": {},
   "outputs": [],
   "source": []
  }
 ],
 "metadata": {
  "kernelspec": {
   "display_name": "Python 3 (ipykernel)",
   "language": "python",
   "name": "python3"
  },
  "language_info": {
   "codemirror_mode": {
    "name": "ipython",
    "version": 3
   },
   "file_extension": ".py",
   "mimetype": "text/x-python",
   "name": "python",
   "nbconvert_exporter": "python",
   "pygments_lexer": "ipython3",
   "version": "3.9.7"
  }
 },
 "nbformat": 4,
 "nbformat_minor": 5
}
